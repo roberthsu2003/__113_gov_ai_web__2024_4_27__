{
 "cells": [
  {
   "cell_type": "code",
   "execution_count": 7,
   "metadata": {},
   "outputs": [
    {
     "data": {
      "text/plain": [
       "['五股區',\n",
       " '深坑區',\n",
       " '石碇區',\n",
       " '泰山區',\n",
       " '八里區',\n",
       " '汐止區',\n",
       " '瑞芳區',\n",
       " '萬里區',\n",
       " '坪林區',\n",
       " '三重區',\n",
       " '永和區',\n",
       " '林口區',\n",
       " '新店區',\n",
       " '中和區',\n",
       " '土城區',\n",
       " '淡水區',\n",
       " '板橋區',\n",
       " '三峽區',\n",
       " '三芝區',\n",
       " '石門區',\n",
       " '金山區']"
      ]
     },
     "execution_count": 7,
     "metadata": {},
     "output_type": "execute_result"
    }
   ],
   "source": [
    "import source\n",
    "from source import Root\n",
    "data_str = source.download_youbike()\n",
    "root = Root.model_validate_json(data_str)\n",
    "data = root.model_dump()\n",
    "\n",
    "#def get_sarea(value:dict)->str:\n",
    "#    return value['行政區']\n",
    "\n",
    "list(set(map(lambda value:value['行政區'],data)))"
   ]
  }
 ],
 "metadata": {
  "kernelspec": {
   "display_name": "Python 3",
   "language": "python",
   "name": "python3"
  },
  "language_info": {
   "codemirror_mode": {
    "name": "ipython",
    "version": 3
   },
   "file_extension": ".py",
   "mimetype": "text/x-python",
   "name": "python",
   "nbconvert_exporter": "python",
   "pygments_lexer": "ipython3",
   "version": "3.10.14"
  }
 },
 "nbformat": 4,
 "nbformat_minor": 2
}
